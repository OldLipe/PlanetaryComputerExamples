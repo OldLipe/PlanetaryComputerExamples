{
 "cells": [
  {
   "cell_type": "markdown",
   "id": "b113d11c-f51f-45c8-8c70-c1acfe004645",
   "metadata": {
    "tags": []
   },
   "source": [
    "<img src=\"https://camo.githubusercontent.com/55810ac9ab5a7f4bb66d532d6c6afd26ef926a0c2436d506a91bb439a4983194/68747470733a2f2f6169346564617461736574737075626c69636173736574732e626c6f622e636f72652e77696e646f77732e6e65742f6173736574732f616f645f696d616765732f706c616e65746172795f636f6d70757465725f6865616465725f383030772e706e67\" align=\"right\" width=\"500\" />\n",
    "\n",
    "</br>\n",
    "</br>\n",
    "</br>\n",
    "</br>\n",
    "\n",
    "# <span align=\"center\" style=\"color:#336699\" >Using CQL2 filter extension in rstac package</span>\n",
    "<hr style=\"border:2px solid #0077b9;\">\n",
    "\n",
    "\n",
    "<div style=\"text-align: center;font-size: 90%;\">\n",
    "    Rolf Simoes<sup><a href=\"https://orcid.org/0000-0003-0953-4132\"><i class=\"fab fa-lg fa-orcid\" style=\"color: #a6ce39\"></i></a></sup>, Felipe Souza<sup><a href=\"https://orcid.org/0000-0001-7534-0219\"><i class=\"fab fa-lg fa-orcid\" style=\"color: #a6ce39\"></i></a></sup>, Gilberto Camara<sup><a href=\"https://orcid.org/0000-0001-7534-0219\"><i class=\"fab fa-lg fa-orcid\" style=\"color: #a6ce39\"></i></a></sup>\n",
    "    <br/><br/>\n",
    "    Earth Observation and Geoinformatics Division, National Institute for Space Research (INPE)\n",
    "    <br/>\n",
    "    Avenida dos Astronautas, 1758, Jardim da Granja, São José dos Campos, SP 12227-010, Brazil\n",
    "    <br/><br/>\n",
    "    Contact: <a href=\"mailto:lipecaso@gmail.com\">lipecaso@gmail.com</a>\n",
    "    <br/><br/>\n",
    "    Last Update: September 06, 2022\n",
    "</div>\n",
    "\n",
    "<br/>\n",
    "\n",
    "<div style=\"text-align: justify;  margin-left: 15%; margin-right: 15%;\">\n",
    "<b>Abstract.</b> rstac is an R-package that implements a SpatioTemporal Assets Catalog API client that allows querying and access to a growing set of global satellite imagery providers. In this notebook we will show how the rstac package implements the CQL2 filter extension.\n",
    "</div>    "
   ]
  },
  {
   "cell_type": "markdown",
   "id": "87e1d1d1-de4b-4683-8d4b-12058e979414",
   "metadata": {},
   "source": [
    "## <span align=\"center\" style=\"color:#336699\" > Installing rstac package </span>\n",
    "<hr style=\"border:1px solid #0077b9;\">"
   ]
  },
  {
   "cell_type": "markdown",
   "id": "93e4c41c-6f1b-41f6-841c-101c20cc8572",
   "metadata": {},
   "source": [
    "To install and load the `rstac` package, run the following commands:"
   ]
  },
  {
   "cell_type": "code",
   "execution_count": 1,
   "id": "bc0e7d36-141d-42fb-81cc-32d1daed7cdb",
   "metadata": {},
   "outputs": [],
   "source": [
    "#install.packages(\"rstac\")\n",
    "library(rstac)"
   ]
  },
  {
   "cell_type": "markdown",
   "id": "b8685198-db31-4ac8-b207-b277f4ed8898",
   "metadata": {},
   "source": [
    "## <span align=\"center\" style=\"color:#336699\" > CQL2 Filter </span>\n",
    "<hr style=\"border:1px solid #0077b9;\">"
   ]
  },
  {
   "cell_type": "markdown",
   "id": "baa1f9c0-1d8b-4c5c-bb77-e5bc69ff2eb0",
   "metadata": {},
   "source": [
    "</br>\n",
    "\n",
    "`CQL2` is an extensible standard in which operators are specified in conformance classes. The conformance classes supported by CQL2 standard are listed in the Figure below. The `ext_filter()` function of `rstac` package recognize all operators of `CQL2` conformance classes.\n",
    "\n",
    "<center>\n",
    "<img src=\"https://raw.githubusercontent.com/opengeospatial/ogcapi-features/master/cql2/cql2-cc.png\" width=\"800\"/>\n",
    "<br>  \n",
    "(source: <a href=\"https://github.com/opengeospatial/ogcapi-features/blob/5a607e3a8d974356398c08a43b85ed701d01b2d3/cql2/README.md\"> Common Query Language</a>)\n",
    "</center>\n",
    "\n",
    "<br>\n",
    "\n",
    "The conformance classes supported by Planetary Computer's STAC API can be determined by inspecting the conformance declaration:"
   ]
  },
  {
   "cell_type": "code",
   "execution_count": 2,
   "id": "e2fa7fc5-1d90-464e-bc58-63bf95dac7cc",
   "metadata": {},
   "outputs": [
    {
     "name": "stdout",
     "output_type": "stream",
     "text": [
      "\u001b[1m###Conformance\u001b[22m\n",
      "- \u001b[1mconformsTo: \u001b[22m\n",
      "  - http://www.opengis.net/spec/ogcapi-features-1/1.0/conf/core\n",
      "  - http://www.opengis.net/spec/ogcapi-features-1/1.0/conf/geojson\n",
      "  - http://www.opengis.net/spec/ogcapi-features-1/1.0/conf/oas30\n",
      "  - https://api.stacspec.org/v1.0.0-rc.1/collections\n",
      "  - https://api.stacspec.org/v1.0.0-rc.1/core\n"
     ]
    }
   ],
   "source": [
    "stac(\"https://planetarycomputer.microsoft.com/api/stac/v1\") |>\n",
    "    conformance() |> \n",
    "    get_request() |>\n",
    "    print()"
   ]
  },
  {
   "cell_type": "markdown",
   "id": "66278ca3-895c-4098-b99c-cd7e828555fb",
   "metadata": {},
   "source": [
    "CQL2 expressions can be composed of properties referring to item attributes. A list of all properties supported by an API retrieved by `/queryables` endpoint. By default, filter expressions only can use properties listed in queryables. For example, to list all supported properties for the collection `sentinel-s2-l2a` in Planetary Computer, users can call the following command: "
   ]
  },
  {
   "cell_type": "code",
   "execution_count": 3,
   "id": "7327a4c1-3629-479d-b403-0db823c91acd",
   "metadata": {},
   "outputs": [
    {
     "name": "stdout",
     "output_type": "stream",
     "text": [
      "\u001b[1m###Queryables\u001b[22m\n",
      "- \u001b[1mproperties\u001b[22m\n",
      "  - datetime\n",
      "  - id\n",
      "  - eo:cloud_cover\n",
      "  - sat:orbit_state\n",
      "  - sat:relative_orbit\n",
      "  - s2:datatake_type\n",
      "  - s2:mgrs_tile\n",
      "  - s2:granule_id\n",
      "  - s2:product_uri\n",
      "  - s2:product_type\n",
      "  - s2:mean_solar_zenith\n",
      "  - s2:mean_solar_azimuth\n",
      "  - s2:water_percentage\n",
      "  - s2:snow_ice_percentage\n",
      "  - s2:vegetation_percentage\n",
      "- \u001b[1mfield(s):\u001b[22m $schema, $id, type, title, description, properties\n"
     ]
    }
   ],
   "source": [
    "stac(\"https://planetarycomputer.microsoft.com/api/stac/v1\") |>  \n",
    "    collections(\"sentinel-2-l2a\") |> \n",
    "    queryables() |> \n",
    "    get_request() |>\n",
    "    print(n = 15)"
   ]
  },
  {
   "cell_type": "markdown",
   "id": "23a93ee7-ed76-4945-976c-7be3fd150345",
   "metadata": {
    "tags": []
   },
   "source": [
    "## <span align=\"center\" style=\"color:#336699\" > Examples </span>\n",
    "<hr style=\"border:1px solid #0077b9;\">"
   ]
  },
  {
   "cell_type": "code",
   "execution_count": 4,
   "id": "5ce570b9-7c46-414c-81c8-7329d13758f4",
   "metadata": {},
   "outputs": [],
   "source": [
    "search <- stac(\"https://planetarycomputer.microsoft.com/api/stac/v1\") |> \n",
    "    stac_search()"
   ]
  },
  {
   "cell_type": "markdown",
   "id": "93007414-ffed-4979-88e9-92ea7d50ec53",
   "metadata": {},
   "source": [
    "#### <span align=\"center\" style=\"color:#336699\" >Equal operator `=` with `collection` property</span>"
   ]
  },
  {
   "cell_type": "code",
   "execution_count": 5,
   "id": "062896b7-0521-4a8e-bd49-fead324768bf",
   "metadata": {},
   "outputs": [
    {
     "name": "stdout",
     "output_type": "stream",
     "text": [
      "\u001b[1m###STACItemCollection\u001b[22m\n",
      "- \u001b[1mfeatures\u001b[22m (250 item(s)):\n",
      "  - S2A_MSIL2A_20221206T062221_R048_T40GCP_20221206T155604\n",
      "  - S2A_MSIL2A_20221206T062221_R048_T40GCN_20221206T144814\n",
      "  - S2A_MSIL2A_20221206T062221_R048_T39GYJ_20221206T151702\n",
      "  - S2A_MSIL2A_20221206T062221_R048_T39GYH_20221206T153201\n",
      "  - S2A_MSIL2A_20221206T062221_R048_T39GXJ_20221206T161038\n",
      "  - S2A_MSIL2A_20221206T062221_R048_T39GXH_20221206T162212\n",
      "  - S2A_MSIL2A_20221206T062221_R048_T39GWK_20221206T152425\n",
      "  - S2A_MSIL2A_20221206T062221_R048_T39GWJ_20221206T142505\n",
      "  - S2A_MSIL2A_20221206T062221_R048_T39GWH_20221206T142823\n",
      "  - S2A_MSIL2A_20221206T062221_R048_T39GVJ_20221206T141228\n",
      "  - ... with 240 more feature(s).\n",
      "- \u001b[1massets:\u001b[22m \n",
      "AOT, B01, B02, B03, B04, B05, B06, B07, B08, B09, B11, B12, B8A, SCL, WVP, visual, preview, safe-manifest, granule-metadata, inspire-metadata, product-metadata, datastrip-metadata, tilejson, rendered_preview\n",
      "- \u001b[1mother field(s):\u001b[22m type, features, links\n"
     ]
    }
   ],
   "source": [
    "search |> \n",
    "    ext_filter(collection == \"sentinel-2-l2a\") |> \n",
    "    post_request() |> \n",
    "    print()"
   ]
  },
  {
   "cell_type": "markdown",
   "id": "66b8b500-2566-4033-9c24-714103d3e7c6",
   "metadata": {},
   "source": [
    "#### <span align=\"center\" style=\"color:#336699\" >Less than operator `<` with `eo:cloud_cover` property</span>"
   ]
  },
  {
   "cell_type": "code",
   "execution_count": 6,
   "id": "349f1814-eb14-46bb-902e-a2afcc87691b",
   "metadata": {},
   "outputs": [
    {
     "name": "stdout",
     "output_type": "stream",
     "text": [
      "\u001b[1m###STACItemCollection\u001b[22m\n",
      "- \u001b[1mfeatures\u001b[22m (250 item(s)):\n",
      "  - S2A_MSIL2A_20221206T062221_R048_T39GWH_20221206T142823\n",
      "  - S2A_MSIL2A_20221206T055221_R048_T44UPD_20221206T152959\n",
      "  - S2A_MSIL2A_20221206T055221_R048_T44UNV_20221206T150924\n",
      "  - S2A_MSIL2A_20221206T055221_R048_T44UMV_20221206T162734\n",
      "  - S2A_MSIL2A_20221206T055221_R048_T44UMD_20221206T160501\n",
      "  - S2A_MSIL2A_20221206T055221_R048_T44UMC_20221206T142309\n",
      "  - S2A_MSIL2A_20221206T055221_R048_T44UMB_20221206T152429\n",
      "  - S2A_MSIL2A_20221206T055221_R048_T44ULV_20221206T160016\n",
      "  - S2A_MSIL2A_20221206T055221_R048_T44ULU_20221206T143301\n",
      "  - S2A_MSIL2A_20221206T055221_R048_T44ULE_20221206T155612\n",
      "  - ... with 240 more feature(s).\n",
      "- \u001b[1massets:\u001b[22m \n",
      "AOT, B01, B02, B03, B04, B05, B06, B07, B08, B09, B11, B12, B8A, SCL, WVP, visual, preview, safe-manifest, granule-metadata, inspire-metadata, product-metadata, datastrip-metadata, tilejson, rendered_preview\n",
      "- \u001b[1mother field(s):\u001b[22m type, features, links\n"
     ]
    }
   ],
   "source": [
    "search |> \n",
    "    ext_filter(`eo:cloud_cover` < 10) |>\n",
    "    post_request() |> \n",
    "    print()"
   ]
  },
  {
   "cell_type": "markdown",
   "id": "0bf385e4-7df0-4409-8a78-9876a51379fe",
   "metadata": {},
   "source": [
    "#### <span align=\"center\" style=\"color:#336699\" >Combining operators in filter expression</span>"
   ]
  },
  {
   "cell_type": "code",
   "execution_count": 7,
   "id": "e88568a4-989b-4188-84fd-7ae2d81a0a17",
   "metadata": {},
   "outputs": [
    {
     "name": "stdout",
     "output_type": "stream",
     "text": [
      "\u001b[1m###STACItemCollection\u001b[22m\n",
      "- \u001b[1mfeatures\u001b[22m (250 item(s)):\n",
      "  - S2A_MSIL2A_20221206T055221_R048_T43QBF_20221206T143535\n",
      "  - S2B_MSIL2A_20221206T050159_R119_T45RUL_20221206T162421\n",
      "  - S2B_MSIL2A_20221206T050159_R119_T45RTL_20221206T154921\n",
      "  - S2B_MSIL2A_20221206T050159_R119_T45QTF_20221206T162238\n",
      "  - S2B_MSIL2A_20221206T050159_R119_T45QTE_20221206T143727\n",
      "  - S2B_MSIL2A_20221206T050159_R119_T45QTD_20221206T142543\n",
      "  - S2B_MSIL2A_20221206T050159_R119_T44RPS_20221206T144358\n",
      "  - S2B_MSIL2A_20221206T050159_R119_T44QRL_20221206T153650\n",
      "  - S2B_MSIL2A_20221206T050159_R119_T44QRH_20221206T143446\n",
      "  - S2B_MSIL2A_20221206T050159_R119_T44QQL_20221206T162721\n",
      "  - ... with 240 more feature(s).\n",
      "- \u001b[1massets:\u001b[22m \n",
      "AOT, B01, B02, B03, B04, B05, B06, B07, B08, B09, B11, B12, B8A, SCL, WVP, visual, preview, safe-manifest, granule-metadata, inspire-metadata, product-metadata, datastrip-metadata, tilejson, rendered_preview\n",
      "- \u001b[1mother field(s):\u001b[22m type, features, links\n"
     ]
    }
   ],
   "source": [
    "search |> ext_filter(\n",
    "    collection == \"sentinel-2-l2a\" &&\n",
    "        `s2:vegetation_percentage` >= 50 &&\n",
    "        `s2:water_percentage` < 10 &&\n",
    "        `eo:cloud_cover` <= 10) |> \n",
    "    post_request() |> \n",
    "    print()"
   ]
  },
  {
   "cell_type": "markdown",
   "id": "fac0afdf-1c34-4b7f-95de-989019e8e7cf",
   "metadata": {},
   "source": [
    "#### <span align=\"center\" style=\"color:#336699\" > `LIKE` operator with `collection` property</span>"
   ]
  },
  {
   "cell_type": "code",
   "execution_count": 8,
   "id": "f4ab74ea-1c67-4388-8ec7-c2aa7488b21c",
   "metadata": {},
   "outputs": [
    {
     "name": "stdout",
     "output_type": "stream",
     "text": [
      "\u001b[1m###STACItemCollection\u001b[22m\n",
      "- \u001b[1mfeatures\u001b[22m (250 item(s)):\n",
      "  - MYD11A1.A2022336.h35v10.061.2022338021318\n",
      "  - MYD11A1.A2022336.h35v09.061.2022338021325\n",
      "  - MYD11A1.A2022336.h35v08.061.2022338020637\n",
      "  - MYD11A1.A2022336.h34v10.061.2022338021358\n",
      "  - MYD11A1.A2022336.h34v09.061.2022338021237\n",
      "  - MYD11A1.A2022336.h34v08.061.2022338021229\n",
      "  - MYD11A1.A2022336.h34v07.061.2022338021329\n",
      "  - MYD11A1.A2022336.h33v11.061.2022338021226\n",
      "  - MYD11A1.A2022336.h33v10.061.2022338021419\n",
      "  - MYD11A1.A2022336.h33v09.061.2022338021435\n",
      "  - ... with 240 more feature(s).\n",
      "- \u001b[1massets:\u001b[22m \n",
      "hdf, QC_Day, Emis_31, Emis_32, QC_Night, metadata, LST_Day_1km, Clear_day_cov, Day_view_angl, Day_view_time, LST_Night_1km, Clear_night_cov, Night_view_angl, Night_view_time, tilejson, rendered_preview\n",
      "- \u001b[1mother field(s):\u001b[22m type, features, links\n"
     ]
    }
   ],
   "source": [
    "search |> \n",
    "    ext_filter(collection %like% \"modis%\") |> \n",
    "    post_request() |> \n",
    "    print()"
   ]
  },
  {
   "cell_type": "markdown",
   "id": "d2d2dbf3-d606-4cf2-958a-e23bd76bcc30",
   "metadata": {},
   "source": [
    "#### <span align=\"center\" style=\"color:#336699\" > `IN` operator with `collection` property </span>"
   ]
  },
  {
   "cell_type": "code",
   "execution_count": 9,
   "id": "dbdc12fb-116c-45c5-8fea-4b402791a0e1",
   "metadata": {},
   "outputs": [
    {
     "name": "stdout",
     "output_type": "stream",
     "text": [
      "\u001b[1m###STACItemCollection\u001b[22m\n",
      "- \u001b[1mfeatures\u001b[22m (250 item(s)):\n",
      "  - 60W-2021\n",
      "  - 60V-2021\n",
      "  - 60U-2021\n",
      "  - 60N-2021\n",
      "  - 60M-2021\n",
      "  - 60L-2021\n",
      "  - 60K-2021\n",
      "  - 60H-2021\n",
      "  - 60G-2021\n",
      "  - 60C-2021\n",
      "  - ... with 240 more feature(s).\n",
      "- \u001b[1massets:\u001b[22m data, tilejson, rendered_preview\n",
      "- \u001b[1mother field(s):\u001b[22m type, features, links\n"
     ]
    }
   ],
   "source": [
    "search |> \n",
    "    ext_filter(collection %in% c(\"io-lulc-9-class\", \"esa-worldcover\")) |>\n",
    "    post_request() |> \n",
    "    print()"
   ]
  },
  {
   "cell_type": "markdown",
   "id": "2b28cdac-01a4-483d-80d0-4cbfe87327be",
   "metadata": {},
   "source": [
    "#### <span align=\"center\" style=\"color:#336699\" > Spatial and Temporal operators </span>"
   ]
  },
  {
   "cell_type": "code",
   "execution_count": 10,
   "id": "0443904f-bd5c-42b5-ab41-74deb1af1ce7",
   "metadata": {},
   "outputs": [
    {
     "name": "stdout",
     "output_type": "stream",
     "text": [
      "\u001b[1m###STACItemCollection\u001b[22m\n",
      "- \u001b[1mfeatures\u001b[22m (3 item(s)):\n",
      "  - LT05_L2SP_231066_19850823_02_T1\n",
      "  - LT05_L2SP_231066_19850807_02_T1\n",
      "  - LT05_L2SP_231066_19850722_02_T1\n",
      "- \u001b[1massets:\u001b[22m \n",
      "qa, ang, red, blue, drad, emis, emsd, lwir, trad, urad, atran, cdist, green, nir08, swir16, swir22, mtl.txt, mtl.xml, cloud_qa, mtl.json, qa_pixel, qa_radsat, atmos_opacity, tilejson, rendered_preview\n",
      "- \u001b[1mother field(s):\u001b[22m type, features, links\n"
     ]
    }
   ],
   "source": [
    "polygon <- list(\n",
    "  type = \"Polygon\",\n",
    "  coordinates = list(\n",
    "    matrix(c(-62.34499836, -8.57414572,\n",
    "             -62.18858174, -8.57414572,\n",
    "             -62.18858174, -8.15351185,\n",
    "             -62.34499836, -8.15351185,\n",
    "             -62.34499836, -8.57414572),\n",
    "           ncol = 2, byrow = TRUE)\n",
    "  )\n",
    ")\n",
    "\n",
    "search |> ext_filter(\n",
    "    collection == \"landsat-c2-l2\" &&\n",
    "        s_intersects(geometry, {{polygon}}) &&\n",
    "        anyinteracts(datetime, interval(\"1985-07-16T05:32:00Z\", \"1985-08-24T16:50:35Z\"))) |> \n",
    "    post_request() |> \n",
    "    print()"
   ]
  },
  {
   "cell_type": "markdown",
   "id": "21489dc5-24f9-4f93-94a7-f352f07c349a",
   "metadata": {},
   "source": [
    "## <span align=\"center\" style=\"color:#336699\" > Learn more </span>\n",
    "<hr style=\"border:1px solid #0077b9;\">"
   ]
  },
  {
   "cell_type": "markdown",
   "id": "593bb766-c5bc-4456-97a0-4be864023f85",
   "metadata": {},
   "source": [
    "For more about the Planetary Computer's STAC API, see [Using tokens for data access](https://planetarycomputer.microsoft.com/docs/concepts/sas/) and the [STAC API reference](https://planetarycomputer.microsoft.com/docs/reference/stac/). \n",
    "For more about CQL2 in rstac, type the command `?ext_filter`."
   ]
  }
 ],
 "metadata": {
  "kernelspec": {
   "display_name": "R",
   "language": "R",
   "name": "ir"
  },
  "language_info": {
   "codemirror_mode": "r",
   "file_extension": ".r",
   "mimetype": "text/x-r-source",
   "name": "R",
   "pygments_lexer": "r",
   "version": "4.2.1"
  }
 },
 "nbformat": 4,
 "nbformat_minor": 5
}
